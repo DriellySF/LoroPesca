{
 "cells": [
  {
   "cell_type": "code",
   "execution_count": 95,
   "id": "e7711959",
   "metadata": {},
   "outputs": [],
   "source": [
    "import pandas as pd"
   ]
  },
  {
   "cell_type": "code",
   "execution_count": 96,
   "id": "4d2082ff",
   "metadata": {},
   "outputs": [
    {
     "data": {
      "text/html": [
       "<div>\n",
       "<style scoped>\n",
       "    .dataframe tbody tr th:only-of-type {\n",
       "        vertical-align: middle;\n",
       "    }\n",
       "\n",
       "    .dataframe tbody tr th {\n",
       "        vertical-align: top;\n",
       "    }\n",
       "\n",
       "    .dataframe thead th {\n",
       "        text-align: right;\n",
       "    }\n",
       "</style>\n",
       "<table border=\"1\" class=\"dataframe\">\n",
       "  <thead>\n",
       "    <tr style=\"text-align: right;\">\n",
       "      <th></th>\n",
       "      <th>product_group</th>\n",
       "      <th>technical_details</th>\n",
       "    </tr>\n",
       "  </thead>\n",
       "  <tbody>\n",
       "    <tr>\n",
       "      <th>0</th>\n",
       "      <td>CARRETILHA VIZEL AIR</td>\n",
       "      <td>Chassi em alumínio | Drag 5.5kg | Recolhimento...</td>\n",
       "    </tr>\n",
       "    <tr>\n",
       "      <th>1</th>\n",
       "      <td>MOLINETE TARGUS</td>\n",
       "      <td>Chassi em grafite | Carretel em alumínio | 3 r...</td>\n",
       "    </tr>\n",
       "    <tr>\n",
       "      <th>2</th>\n",
       "      <td>VARA TRIGGER</td>\n",
       "      <td>Vara para carretilha | 1.68m | Ação rápida | L...</td>\n",
       "    </tr>\n",
       "    <tr>\n",
       "      <th>3</th>\n",
       "      <td>ISCAS ARTIFICIAIS YARA</td>\n",
       "      <td>Isca flutuante | Corpo rígido | Garateias refo...</td>\n",
       "    </tr>\n",
       "    <tr>\n",
       "      <th>4</th>\n",
       "      <td>LINHA MONOFILAMENTO</td>\n",
       "      <td>Linha de pesca monofilamento | Diâmetro 0.30mm...</td>\n",
       "    </tr>\n",
       "    <tr>\n",
       "      <th>5</th>\n",
       "      <td>ALICATE DE CONTENÇÃO</td>\n",
       "      <td>Alicate em aço inox | Cabo anatômico | Trava d...</td>\n",
       "    </tr>\n",
       "    <tr>\n",
       "      <th>6</th>\n",
       "      <td>BOIA TORPEDO</td>\n",
       "      <td>Boia torpedo 25g | Flutuação média | Ideal par...</td>\n",
       "    </tr>\n",
       "    <tr>\n",
       "      <th>7</th>\n",
       "      <td>ANZOL MARINE SPORT</td>\n",
       "      <td>Anzol tipo Maruseigo | Tamanho 2/0 | Aço nique...</td>\n",
       "    </tr>\n",
       "  </tbody>\n",
       "</table>\n",
       "</div>"
      ],
      "text/plain": [
       "            product_group                                  technical_details\n",
       "0    CARRETILHA VIZEL AIR  Chassi em alumínio | Drag 5.5kg | Recolhimento...\n",
       "1         MOLINETE TARGUS  Chassi em grafite | Carretel em alumínio | 3 r...\n",
       "2            VARA TRIGGER  Vara para carretilha | 1.68m | Ação rápida | L...\n",
       "3  ISCAS ARTIFICIAIS YARA  Isca flutuante | Corpo rígido | Garateias refo...\n",
       "4     LINHA MONOFILAMENTO  Linha de pesca monofilamento | Diâmetro 0.30mm...\n",
       "5    ALICATE DE CONTENÇÃO  Alicate em aço inox | Cabo anatômico | Trava d...\n",
       "6            BOIA TORPEDO  Boia torpedo 25g | Flutuação média | Ideal par...\n",
       "7      ANZOL MARINE SPORT  Anzol tipo Maruseigo | Tamanho 2/0 | Aço nique..."
      ]
     },
     "execution_count": 96,
     "metadata": {},
     "output_type": "execute_result"
    }
   ],
   "source": [
    "tech = pd.read_csv('loro_pesca_technical_docs.csv')\n",
    "catalog = pd.read_csv('loro_pesca_catalog.csv')\n",
    "\n",
    "tech"
   ]
  },
  {
   "cell_type": "code",
   "execution_count": 97,
   "id": "552b83d9",
   "metadata": {},
   "outputs": [
    {
     "data": {
      "text/html": [
       "<div>\n",
       "<style scoped>\n",
       "    .dataframe tbody tr th:only-of-type {\n",
       "        vertical-align: middle;\n",
       "    }\n",
       "\n",
       "    .dataframe tbody tr th {\n",
       "        vertical-align: top;\n",
       "    }\n",
       "\n",
       "    .dataframe thead th {\n",
       "        text-align: right;\n",
       "    }\n",
       "</style>\n",
       "<table border=\"1\" class=\"dataframe\">\n",
       "  <thead>\n",
       "    <tr style=\"text-align: right;\">\n",
       "      <th></th>\n",
       "      <th>product_code</th>\n",
       "      <th>product_name</th>\n",
       "      <th>price</th>\n",
       "      <th>availability</th>\n",
       "    </tr>\n",
       "  </thead>\n",
       "  <tbody>\n",
       "    <tr>\n",
       "      <th>0</th>\n",
       "      <td>111898</td>\n",
       "      <td>ISCAS ARTIFICIAIS YARA 373</td>\n",
       "      <td>464.38</td>\n",
       "      <td>Indisponível</td>\n",
       "    </tr>\n",
       "    <tr>\n",
       "      <th>1</th>\n",
       "      <td>82243</td>\n",
       "      <td>LINHA MONOFILAMENTO 182</td>\n",
       "      <td>766.76</td>\n",
       "      <td>Disponível</td>\n",
       "    </tr>\n",
       "    <tr>\n",
       "      <th>2</th>\n",
       "      <td>88239</td>\n",
       "      <td>ANZOL MARINE SPORT 659</td>\n",
       "      <td>197.20</td>\n",
       "      <td>Indisponível</td>\n",
       "    </tr>\n",
       "    <tr>\n",
       "      <th>3</th>\n",
       "      <td>86676</td>\n",
       "      <td>VARA TRIGGER 566</td>\n",
       "      <td>873.80</td>\n",
       "      <td>Disponível</td>\n",
       "    </tr>\n",
       "    <tr>\n",
       "      <th>4</th>\n",
       "      <td>125160</td>\n",
       "      <td>CARRETILHA VIZEL AIR 713</td>\n",
       "      <td>1151.96</td>\n",
       "      <td>Disponível</td>\n",
       "    </tr>\n",
       "    <tr>\n",
       "      <th>...</th>\n",
       "      <td>...</td>\n",
       "      <td>...</td>\n",
       "      <td>...</td>\n",
       "      <td>...</td>\n",
       "    </tr>\n",
       "    <tr>\n",
       "      <th>95</th>\n",
       "      <td>83285</td>\n",
       "      <td>ISCAS ARTIFICIAIS YARA 624</td>\n",
       "      <td>738.81</td>\n",
       "      <td>Disponível</td>\n",
       "    </tr>\n",
       "    <tr>\n",
       "      <th>96</th>\n",
       "      <td>105528</td>\n",
       "      <td>VARA TRIGGER 469</td>\n",
       "      <td>524.90</td>\n",
       "      <td>Disponível</td>\n",
       "    </tr>\n",
       "    <tr>\n",
       "      <th>97</th>\n",
       "      <td>127757</td>\n",
       "      <td>ALICATE DE CONTENÇÃO 404</td>\n",
       "      <td>643.62</td>\n",
       "      <td>Indisponível</td>\n",
       "    </tr>\n",
       "    <tr>\n",
       "      <th>98</th>\n",
       "      <td>111601</td>\n",
       "      <td>VARA TRIGGER 477</td>\n",
       "      <td>185.29</td>\n",
       "      <td>Disponível</td>\n",
       "    </tr>\n",
       "    <tr>\n",
       "      <th>99</th>\n",
       "      <td>91153</td>\n",
       "      <td>VARA TRIGGER 245</td>\n",
       "      <td>896.50</td>\n",
       "      <td>Disponível</td>\n",
       "    </tr>\n",
       "  </tbody>\n",
       "</table>\n",
       "<p>100 rows × 4 columns</p>\n",
       "</div>"
      ],
      "text/plain": [
       "    product_code                product_name    price  availability\n",
       "0         111898  ISCAS ARTIFICIAIS YARA 373   464.38  Indisponível\n",
       "1          82243     LINHA MONOFILAMENTO 182   766.76    Disponível\n",
       "2          88239      ANZOL MARINE SPORT 659   197.20  Indisponível\n",
       "3          86676            VARA TRIGGER 566   873.80    Disponível\n",
       "4         125160    CARRETILHA VIZEL AIR 713  1151.96    Disponível\n",
       "..           ...                         ...      ...           ...\n",
       "95         83285  ISCAS ARTIFICIAIS YARA 624   738.81    Disponível\n",
       "96        105528            VARA TRIGGER 469   524.90    Disponível\n",
       "97        127757    ALICATE DE CONTENÇÃO 404   643.62  Indisponível\n",
       "98        111601            VARA TRIGGER 477   185.29    Disponível\n",
       "99         91153            VARA TRIGGER 245   896.50    Disponível\n",
       "\n",
       "[100 rows x 4 columns]"
      ]
     },
     "execution_count": 97,
     "metadata": {},
     "output_type": "execute_result"
    }
   ],
   "source": [
    "catalog"
   ]
  },
  {
   "cell_type": "code",
   "execution_count": 98,
   "id": "5f29e1ee",
   "metadata": {},
   "outputs": [
    {
     "name": "stdout",
     "output_type": "stream",
     "text": [
      "<class 'pandas.core.frame.DataFrame'>\n",
      "RangeIndex: 8 entries, 0 to 7\n",
      "Data columns (total 2 columns):\n",
      " #   Column             Non-Null Count  Dtype \n",
      "---  ------             --------------  ----- \n",
      " 0   product_group      8 non-null      object\n",
      " 1   technical_details  8 non-null      object\n",
      "dtypes: object(2)\n",
      "memory usage: 260.0+ bytes\n"
     ]
    }
   ],
   "source": [
    "tech.info()"
   ]
  },
  {
   "cell_type": "code",
   "execution_count": 99,
   "id": "7dfd7e10",
   "metadata": {},
   "outputs": [
    {
     "name": "stdout",
     "output_type": "stream",
     "text": [
      "<class 'pandas.core.frame.DataFrame'>\n",
      "RangeIndex: 100 entries, 0 to 99\n",
      "Data columns (total 4 columns):\n",
      " #   Column        Non-Null Count  Dtype  \n",
      "---  ------        --------------  -----  \n",
      " 0   product_code  100 non-null    int64  \n",
      " 1   product_name  100 non-null    object \n",
      " 2   price         100 non-null    float64\n",
      " 3   availability  100 non-null    object \n",
      "dtypes: float64(1), int64(1), object(2)\n",
      "memory usage: 3.3+ KB\n"
     ]
    }
   ],
   "source": [
    "catalog.info()"
   ]
  },
  {
   "cell_type": "code",
   "execution_count": 100,
   "id": "66a91d96",
   "metadata": {},
   "outputs": [
    {
     "data": {
      "text/html": [
       "<div>\n",
       "<style scoped>\n",
       "    .dataframe tbody tr th:only-of-type {\n",
       "        vertical-align: middle;\n",
       "    }\n",
       "\n",
       "    .dataframe tbody tr th {\n",
       "        vertical-align: top;\n",
       "    }\n",
       "\n",
       "    .dataframe thead th {\n",
       "        text-align: right;\n",
       "    }\n",
       "</style>\n",
       "<table border=\"1\" class=\"dataframe\">\n",
       "  <thead>\n",
       "    <tr style=\"text-align: right;\">\n",
       "      <th></th>\n",
       "      <th>product_code</th>\n",
       "      <th>price</th>\n",
       "    </tr>\n",
       "  </thead>\n",
       "  <tbody>\n",
       "    <tr>\n",
       "      <th>count</th>\n",
       "      <td>100.00000</td>\n",
       "      <td>100.000000</td>\n",
       "    </tr>\n",
       "    <tr>\n",
       "      <th>mean</th>\n",
       "      <td>102842.24000</td>\n",
       "      <td>618.839100</td>\n",
       "    </tr>\n",
       "    <tr>\n",
       "      <th>std</th>\n",
       "      <td>14007.94479</td>\n",
       "      <td>348.499828</td>\n",
       "    </tr>\n",
       "    <tr>\n",
       "      <th>min</th>\n",
       "      <td>80222.00000</td>\n",
       "      <td>16.810000</td>\n",
       "    </tr>\n",
       "    <tr>\n",
       "      <th>25%</th>\n",
       "      <td>91690.75000</td>\n",
       "      <td>314.700000</td>\n",
       "    </tr>\n",
       "    <tr>\n",
       "      <th>50%</th>\n",
       "      <td>101532.50000</td>\n",
       "      <td>648.365000</td>\n",
       "    </tr>\n",
       "    <tr>\n",
       "      <th>75%</th>\n",
       "      <td>113608.00000</td>\n",
       "      <td>892.645000</td>\n",
       "    </tr>\n",
       "    <tr>\n",
       "      <th>max</th>\n",
       "      <td>129429.00000</td>\n",
       "      <td>1192.010000</td>\n",
       "    </tr>\n",
       "  </tbody>\n",
       "</table>\n",
       "</div>"
      ],
      "text/plain": [
       "       product_code        price\n",
       "count     100.00000   100.000000\n",
       "mean   102842.24000   618.839100\n",
       "std     14007.94479   348.499828\n",
       "min     80222.00000    16.810000\n",
       "25%     91690.75000   314.700000\n",
       "50%    101532.50000   648.365000\n",
       "75%    113608.00000   892.645000\n",
       "max    129429.00000  1192.010000"
      ]
     },
     "execution_count": 100,
     "metadata": {},
     "output_type": "execute_result"
    }
   ],
   "source": [
    "catalog.describe()"
   ]
  },
  {
   "cell_type": "code",
   "execution_count": 101,
   "id": "ac56a1a4",
   "metadata": {},
   "outputs": [
    {
     "data": {
      "text/plain": [
       "product_code    False\n",
       "product_name    False\n",
       "price           False\n",
       "availability    False\n",
       "dtype: bool"
      ]
     },
     "execution_count": 101,
     "metadata": {},
     "output_type": "execute_result"
    }
   ],
   "source": [
    "catalog.isna().any()"
   ]
  },
  {
   "cell_type": "code",
   "execution_count": 102,
   "id": "bcef36ba",
   "metadata": {},
   "outputs": [
    {
     "data": {
      "text/plain": [
       "<bound method DataFrame.any of    product_group  technical_details\n",
       "0          False              False\n",
       "1          False              False\n",
       "2          False              False\n",
       "3          False              False\n",
       "4          False              False\n",
       "5          False              False\n",
       "6          False              False\n",
       "7          False              False>"
      ]
     },
     "execution_count": 102,
     "metadata": {},
     "output_type": "execute_result"
    }
   ],
   "source": [
    "tech.isna().any"
   ]
  },
  {
   "cell_type": "markdown",
   "id": "d1aa28e5",
   "metadata": {},
   "source": [
    "Para usar todos os dados, juntei os dois csvs\n"
   ]
  },
  {
   "cell_type": "code",
   "execution_count": 103,
   "id": "f049bb3f",
   "metadata": {},
   "outputs": [],
   "source": [
    "def merge(product_name, groups):\n",
    "    for group in groups:\n",
    "        if group.lower() in product_name.lower():\n",
    "            return group\n",
    "    return None\n",
    "\n",
    "catalog[\"product_group\"] = catalog[\"product_name\"].apply(\n",
    "    lambda name: merge(name, tech[\"product_group\"].tolist())\n",
    ")\n"
   ]
  },
  {
   "cell_type": "code",
   "execution_count": 104,
   "id": "dbc1f60b",
   "metadata": {},
   "outputs": [],
   "source": [
    "df_merged = pd.merge(catalog, tech, on=\"product_group\", how=\"left\")\n"
   ]
  },
  {
   "cell_type": "markdown",
   "id": "72e6bbd8",
   "metadata": {},
   "source": [
    "Depois de fazer uma primeira tentativa de implementação, percebi que a tradução era necessária, pois o modelo não identificava, por exemplo, que \"reel\" correnpondia ao \"molinete\" e a \"carretilha\". Por isso, procurei pelas traduções e adicionei uma coluna ao dataset."
   ]
  },
  {
   "cell_type": "code",
   "execution_count": 105,
   "id": "04fb2a14",
   "metadata": {},
   "outputs": [],
   "source": [
    "translate = {\n",
    "    \"CARRETILHA VIZEL AIR\": \"Reel\",\n",
    "    \"MOLINETE TARGUS\": \"Reel\",\n",
    "    \"VARA TRIGGER\": \"Rod\",\n",
    "    \"ISCAS ARTIFICIAIS YARA\": \"Bait\",\n",
    "    \"LINHA MONOFILAMENTO\": \"Line\",\n",
    "    \"ALICATE DE CONTENÇÃO\": \"Pliers\",\n",
    "    \"BOIA TORPEDO\": \"Float\",\n",
    "    \"ANZOL MARINE SPORT\": \"Hook\"\n",
    "}\n",
    "\n",
    "df_merged[\"category_en\"] = df_merged[\"product_group\"].map(translate)\n"
   ]
  },
  {
   "cell_type": "code",
   "execution_count": 106,
   "id": "5d72c656",
   "metadata": {},
   "outputs": [],
   "source": [
    "df_merged.to_csv(\"catalog.csv\", index=False)\n"
   ]
  },
  {
   "cell_type": "code",
   "execution_count": 107,
   "id": "670fdd4f",
   "metadata": {},
   "outputs": [
    {
     "data": {
      "text/html": [
       "<div>\n",
       "<style scoped>\n",
       "    .dataframe tbody tr th:only-of-type {\n",
       "        vertical-align: middle;\n",
       "    }\n",
       "\n",
       "    .dataframe tbody tr th {\n",
       "        vertical-align: top;\n",
       "    }\n",
       "\n",
       "    .dataframe thead th {\n",
       "        text-align: right;\n",
       "    }\n",
       "</style>\n",
       "<table border=\"1\" class=\"dataframe\">\n",
       "  <thead>\n",
       "    <tr style=\"text-align: right;\">\n",
       "      <th></th>\n",
       "      <th>product_code</th>\n",
       "      <th>product_name</th>\n",
       "      <th>price</th>\n",
       "      <th>availability</th>\n",
       "      <th>product_group</th>\n",
       "      <th>technical_details</th>\n",
       "      <th>category_en</th>\n",
       "    </tr>\n",
       "  </thead>\n",
       "  <tbody>\n",
       "    <tr>\n",
       "      <th>0</th>\n",
       "      <td>111898</td>\n",
       "      <td>ISCAS ARTIFICIAIS YARA 373</td>\n",
       "      <td>464.38</td>\n",
       "      <td>Indisponível</td>\n",
       "      <td>ISCAS ARTIFICIAIS YARA</td>\n",
       "      <td>Isca flutuante | Corpo rígido | Garateias refo...</td>\n",
       "      <td>Bait</td>\n",
       "    </tr>\n",
       "    <tr>\n",
       "      <th>1</th>\n",
       "      <td>82243</td>\n",
       "      <td>LINHA MONOFILAMENTO 182</td>\n",
       "      <td>766.76</td>\n",
       "      <td>Disponível</td>\n",
       "      <td>LINHA MONOFILAMENTO</td>\n",
       "      <td>Linha de pesca monofilamento | Diâmetro 0.30mm...</td>\n",
       "      <td>Line</td>\n",
       "    </tr>\n",
       "    <tr>\n",
       "      <th>2</th>\n",
       "      <td>88239</td>\n",
       "      <td>ANZOL MARINE SPORT 659</td>\n",
       "      <td>197.20</td>\n",
       "      <td>Indisponível</td>\n",
       "      <td>ANZOL MARINE SPORT</td>\n",
       "      <td>Anzol tipo Maruseigo | Tamanho 2/0 | Aço nique...</td>\n",
       "      <td>Hook</td>\n",
       "    </tr>\n",
       "    <tr>\n",
       "      <th>3</th>\n",
       "      <td>86676</td>\n",
       "      <td>VARA TRIGGER 566</td>\n",
       "      <td>873.80</td>\n",
       "      <td>Disponível</td>\n",
       "      <td>VARA TRIGGER</td>\n",
       "      <td>Vara para carretilha | 1.68m | Ação rápida | L...</td>\n",
       "      <td>Rod</td>\n",
       "    </tr>\n",
       "    <tr>\n",
       "      <th>4</th>\n",
       "      <td>125160</td>\n",
       "      <td>CARRETILHA VIZEL AIR 713</td>\n",
       "      <td>1151.96</td>\n",
       "      <td>Disponível</td>\n",
       "      <td>CARRETILHA VIZEL AIR</td>\n",
       "      <td>Chassi em alumínio | Drag 5.5kg | Recolhimento...</td>\n",
       "      <td>Reel</td>\n",
       "    </tr>\n",
       "  </tbody>\n",
       "</table>\n",
       "</div>"
      ],
      "text/plain": [
       "   product_code                product_name    price  availability  \\\n",
       "0        111898  ISCAS ARTIFICIAIS YARA 373   464.38  Indisponível   \n",
       "1         82243     LINHA MONOFILAMENTO 182   766.76    Disponível   \n",
       "2         88239      ANZOL MARINE SPORT 659   197.20  Indisponível   \n",
       "3         86676            VARA TRIGGER 566   873.80    Disponível   \n",
       "4        125160    CARRETILHA VIZEL AIR 713  1151.96    Disponível   \n",
       "\n",
       "            product_group                                  technical_details  \\\n",
       "0  ISCAS ARTIFICIAIS YARA  Isca flutuante | Corpo rígido | Garateias refo...   \n",
       "1     LINHA MONOFILAMENTO  Linha de pesca monofilamento | Diâmetro 0.30mm...   \n",
       "2      ANZOL MARINE SPORT  Anzol tipo Maruseigo | Tamanho 2/0 | Aço nique...   \n",
       "3            VARA TRIGGER  Vara para carretilha | 1.68m | Ação rápida | L...   \n",
       "4    CARRETILHA VIZEL AIR  Chassi em alumínio | Drag 5.5kg | Recolhimento...   \n",
       "\n",
       "  category_en  \n",
       "0        Bait  \n",
       "1        Line  \n",
       "2        Hook  \n",
       "3         Rod  \n",
       "4        Reel  "
      ]
     },
     "execution_count": 107,
     "metadata": {},
     "output_type": "execute_result"
    }
   ],
   "source": [
    "df_merged.head()"
   ]
  }
 ],
 "metadata": {
  "kernelspec": {
   "display_name": "Python 3",
   "language": "python",
   "name": "python3"
  },
  "language_info": {
   "codemirror_mode": {
    "name": "ipython",
    "version": 3
   },
   "file_extension": ".py",
   "mimetype": "text/x-python",
   "name": "python",
   "nbconvert_exporter": "python",
   "pygments_lexer": "ipython3",
   "version": "3.12.3"
  }
 },
 "nbformat": 4,
 "nbformat_minor": 5
}
